{
 "cells": [
  {
   "cell_type": "code",
   "execution_count": 1,
   "metadata": {},
   "outputs": [],
   "source": [
    "import pandas as pd\n",
    "import numpy as np"
   ]
  },
  {
   "cell_type": "code",
   "execution_count": 2,
   "metadata": {},
   "outputs": [],
   "source": [
    "churches = ['mossleyhill','gateway','sthelens','stoneycroftsalvationarmy']"
   ]
  },
  {
   "cell_type": "code",
   "execution_count": 3,
   "metadata": {},
   "outputs": [],
   "source": [
    "csv = {}\n",
    "for church in churches:\n",
    "    csv[church] = pd.read_csv(f'../data/sensitive/postcodes/{church}.csv')\n",
    "    csv[church]['Postcode'] = csv[church]['Postcode'].str.upper()\n",
    "    csv[church]['Postcode'] = csv[church]['Postcode'].str.replace(' ','')\n",
    "    csv[church]['Postcode'] = csv[church]['Postcode'].str[:-3] + ' ' + csv[church]['Postcode'].str[-3:]\n",
    "    csv[church].to_csv(f'../data/sensitive/derived/{church}.csv', index=False)"
   ]
  }
 ],
 "metadata": {
  "jupytext": {
   "formats": "notebooks//ipynb,rmd//Rmd,scripts//py:light"
  },
  "kernelspec": {
   "display_name": "Python 3",
   "language": "python",
   "name": "python3"
  },
  "language_info": {
   "codemirror_mode": {
    "name": "ipython",
    "version": 3
   },
   "file_extension": ".py",
   "mimetype": "text/x-python",
   "name": "python",
   "nbconvert_exporter": "python",
   "pygments_lexer": "ipython3",
   "version": "3.8.2"
  }
 },
 "nbformat": 4,
 "nbformat_minor": 4
}
