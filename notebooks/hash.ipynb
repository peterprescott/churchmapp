{
 "cells": [
  {
   "cell_type": "markdown",
   "metadata": {},
   "source": [
    "# Demonstrate Password Hashing"
   ]
  },
  {
   "cell_type": "code",
   "execution_count": 1,
   "metadata": {},
   "outputs": [],
   "source": [
    "from passlib.hash import pbkdf2_sha256"
   ]
  },
  {
   "cell_type": "code",
   "execution_count": 2,
   "metadata": {},
   "outputs": [],
   "source": [
    "# this is the `authenticate()` function for the backend server\n",
    "def authenticate():\n",
    "    try:\n",
    "        email = request.json['email']\n",
    "        password = request.json['password']\n",
    "\n",
    "        user = session.query(User)\\\n",
    "                    .filter(User.email==email)\\\n",
    "                    .first()\n",
    "        if user: # if user already exists...\n",
    "            # ... authenticate password\n",
    "            if not pbkdf2_sha256\\\n",
    "                    .verify(\n",
    "                        password,\n",
    "                        user.password_hash\n",
    "                        ):\n",
    "                return jsonify(\n",
    "                    {'message':'Wrong password for that email'}\n",
    "                    ), 401\n",
    "            else:\n",
    "                message = 'Authentication successful'\n",
    "\n",
    "        else: # else create new password hash and user\n",
    "            hash = pbkdf2_sha256.hash(password)\n",
    "            user = User(email=email, password_hash=hash)\n",
    "            session.add(user)\n",
    "            session.commit()\n",
    "            message = 'Registration successful'\n",
    "\n",
    "        # everyone still here gets a token\n",
    "        payload = { 'email': email }\n",
    "        token = jwt.generate_jwt(\n",
    "            payload, JWT_security_key, \n",
    "            'PS256', timedelta(minutes=15))\n",
    "        return jsonify({\n",
    "            'message': message, \n",
    "            'JWT': token\n",
    "                    }), 202\n",
    "\n",
    "    except Exception as e:\n",
    "        return jsonify({'error':str(e)[:100]}), 500"
   ]
  },
  {
   "cell_type": "code",
   "execution_count": 3,
   "metadata": {},
   "outputs": [
    {
     "name": "stdout",
     "output_type": "stream",
     "text": [
      "secret\n",
      "$pbkdf2-sha256$29000$hPAeoxQC4Lx3Tum9N6b0fg$wD.LLIusWdQmvLdDD/05/REbrN16bto7cCjioYTQJ.E\n",
      "False\n",
      "True\n"
     ]
    }
   ],
   "source": [
    "# let's just look at what pbkdf2_sha256 does\n",
    "password = 'secret'\n",
    "print(password)\n",
    "hash = pbkdf2_sha256.hash(password)\n",
    "print(hash)\n",
    "authenticate = pbkdf2_sha256.verify('wrong password', hash)\n",
    "print(authenticate)\n",
    "authenticate = pbkdf2_sha256.verify(password, hash)\n",
    "print(authenticate)"
   ]
  }
 ],
 "metadata": {
  "jupytext": {
   "formats": "notebooks//ipynb,rmd//Rmd,scripts//py:light"
  },
  "kernelspec": {
   "display_name": "Python 3",
   "language": "python",
   "name": "python3"
  },
  "language_info": {
   "codemirror_mode": {
    "name": "ipython",
    "version": 3
   },
   "file_extension": ".py",
   "mimetype": "text/x-python",
   "name": "python",
   "nbconvert_exporter": "python",
   "pygments_lexer": "ipython3",
   "version": "3.8.2"
  }
 },
 "nbformat": 4,
 "nbformat_minor": 4
}
