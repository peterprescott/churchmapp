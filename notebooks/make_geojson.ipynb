{
 "cells": [
  {
   "cell_type": "code",
   "execution_count": 1,
   "metadata": {},
   "outputs": [],
   "source": [
    "import pandas as pd\n",
    "import geopandas as gpd"
   ]
  },
  {
   "cell_type": "code",
   "execution_count": null,
   "metadata": {},
   "outputs": [],
   "source": [
    "shape_url = 'https://opendata.arcgis.com/datasets/ff8151d927974f349de240e7c8f6c140_0.zip'\n",
    "shape_data = gpd.read_file(shape_url)\n",
    "shape_data.plot()"
   ]
  },
  {
   "cell_type": "code",
   "execution_count": null,
   "metadata": {},
   "outputs": [],
   "source": [
    "oac = pd.read_csv('csv/2011oac.csv')\n",
    "oac.rename(columns={'Output Area Code':'OA11CD'},inplace=True)\n",
    "merged_shapes = shape_data.merge(oac[['OA11CD','Local Authority Name', 'Subgroup Code']],on='OA11CD')\n",
    "merged_shapes.drop(columns=['FID','LAD11CD','Shape__Are','Shape__Len'],inplace=True)"
   ]
  },
  {
   "cell_type": "code",
   "execution_count": null,
   "metadata": {},
   "outputs": [],
   "source": [
    "lcr = ['Liverpool','Halton','St. Helens','Sefton','Wirral','Knowsley']\n",
    "la_df = {}\n",
    "la_dfs = []\n",
    "for local_authority in lcr:\n",
    "    la_df[local_authority] = merged_shapes.loc[merged_shapes['Local Authority Name'] == local_authority]\n",
    "    la_dfs.append(la_df[local_authority])\n",
    "liverpoolcityregion = pd.concat(la_dfs)\n",
    "liverpoolcityregion.to_file('LiverpoolCityRegion.geojson',driver='GeoJSON')"
   ]
  }
 ],
 "metadata": {
  "jupytext": {
   "formats": "notebooks//ipynb,rmd//Rmd,scripts//py:light"
  },
  "kernelspec": {
   "display_name": "Python 3",
   "language": "python",
   "name": "python3"
  },
  "language_info": {
   "codemirror_mode": {
    "name": "ipython",
    "version": 3
   },
   "file_extension": ".py",
   "mimetype": "text/x-python",
   "name": "python",
   "nbconvert_exporter": "python",
   "pygments_lexer": "ipython3",
   "version": "3.8.2"
  }
 },
 "nbformat": 4,
 "nbformat_minor": 4
}
