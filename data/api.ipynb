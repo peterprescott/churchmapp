{
 "cells": [
  {
   "cell_type": "code",
   "execution_count": 1,
   "metadata": {},
   "outputs": [],
   "source": [
    "import requests, json"
   ]
  },
  {
   "cell_type": "code",
   "execution_count": 4,
   "metadata": {},
   "outputs": [],
   "source": [
    "api = 'http://localhost:5000/'"
   ]
  },
  {
   "cell_type": "code",
   "execution_count": 5,
   "metadata": {},
   "outputs": [
    {
     "data": {
      "text/plain": [
       "[]"
      ]
     },
     "execution_count": 5,
     "metadata": {},
     "output_type": "execute_result"
    }
   ],
   "source": [
    "requests.get(api+'churches').json()"
   ]
  },
  {
   "cell_type": "code",
   "execution_count": 6,
   "metadata": {},
   "outputs": [
    {
     "data": {
      "text/plain": [
       "[{'id': 1, 'task': 'go outside!', 'uri': 'http://localhost:5000/todos/1'},\n",
       " {'id': 2, 'task': 'walk', 'uri': 'http://localhost:5000/todos/2'},\n",
       " {'id': 3, 'task': 'L13 7EQ', 'uri': 'http://localhost:5000/todos/3'}]"
      ]
     },
     "execution_count": 6,
     "metadata": {},
     "output_type": "execute_result"
    }
   ],
   "source": [
    "requests.get(api+'todos').json()"
   ]
  },
  {
   "cell_type": "code",
   "execution_count": 48,
   "metadata": {},
   "outputs": [
    {
     "data": {
      "text/plain": [
       "{'id': 3,\n",
       " 'postcode': 'L13 7EQ',\n",
       " 'latitude': 2.3,\n",
       " 'longitude': 56.0,\n",
       " 'name': 'Mossley Hill',\n",
       " 'website': 'church.com',\n",
       " 'uri': 'http://localhost:5000/church/3'}"
      ]
     },
     "execution_count": 48,
     "metadata": {},
     "output_type": "execute_result"
    }
   ],
   "source": [
    "requests.post('http://localhost:5000/churches',\n",
    "              headers={'Content-Type': 'application/json'},\n",
    "              data=json.dumps({\n",
    "                  \n",
    "                               'postcode': 'L13 7EQ',\n",
    "                               'name': 'Mossley Hill',\n",
    "                               'website':'church.com',\n",
    "                               'latitude':2.3,\n",
    "                               'longitude':56.0,\n",
    "              })).json()   "
   ]
  },
  {
   "cell_type": "code",
   "execution_count": 41,
   "metadata": {},
   "outputs": [
    {
     "data": {
      "text/plain": [
       "{'id': 5, 'task': 'walk', 'uri': 'http://localhost:5000/todos/5'}"
      ]
     },
     "execution_count": 41,
     "metadata": {},
     "output_type": "execute_result"
    }
   ],
   "source": [
    "requests.post('http://localhost:5000/todos',\n",
    "              headers={'Content-Type': 'application/json'},\n",
    "              data=json.dumps({'task':'walk'})).json()  "
   ]
  },
  {
   "cell_type": "code",
   "execution_count": 14,
   "metadata": {},
   "outputs": [
    {
     "data": {
      "text/plain": [
       "{'id': 3, 'task': 'L13 7EQ', 'uri': 'http://localhost:5000/todos/3'}"
      ]
     },
     "execution_count": 14,
     "metadata": {},
     "output_type": "execute_result"
    }
   ],
   "source": [
    "requests.post('http://localhost:5000/todos',\n",
    "              headers={'Content-Type': 'application/json'},\n",
    "              data=json.dumps({'task':'L13 7EQ'})).json()  "
   ]
  },
  {
   "cell_type": "code",
   "execution_count": null,
   "metadata": {},
   "outputs": [],
   "source": []
  }
 ],
 "metadata": {
  "kernelspec": {
   "display_name": "Python 3",
   "language": "python",
   "name": "python3"
  },
  "language_info": {
   "codemirror_mode": {
    "name": "ipython",
    "version": 3
   },
   "file_extension": ".py",
   "mimetype": "text/x-python",
   "name": "python",
   "nbconvert_exporter": "python",
   "pygments_lexer": "ipython3",
   "version": "3.8.2"
  }
 },
 "nbformat": 4,
 "nbformat_minor": 4
}
