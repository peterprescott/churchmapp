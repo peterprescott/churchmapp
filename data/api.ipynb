{
 "cells": [
  {
   "cell_type": "code",
   "execution_count": 1,
   "metadata": {},
   "outputs": [],
   "source": [
    "import requests, json"
   ]
  },
  {
   "cell_type": "code",
   "execution_count": 2,
   "metadata": {},
   "outputs": [],
   "source": [
    "api = 'http://localhost:5000/'"
   ]
  },
  {
   "cell_type": "code",
   "execution_count": 3,
   "metadata": {},
   "outputs": [
    {
     "data": {
      "text/plain": [
       "[{'id': 1,\n",
       "  'postcode': 'L13 7EQ',\n",
       "  'latitude': 2.3,\n",
       "  'longitude': 56.0,\n",
       "  'name': 'Covenant Family',\n",
       "  'website': 'covenantfamily.org.uk',\n",
       "  'uri': 'http://localhost:5000/churches/1'}]"
      ]
     },
     "execution_count": 3,
     "metadata": {},
     "output_type": "execute_result"
    }
   ],
   "source": [
    "requests.get(api+'churches').json()"
   ]
  },
  {
   "cell_type": "code",
   "execution_count": 24,
   "metadata": {},
   "outputs": [
    {
     "data": {
      "text/plain": [
       "{'id': 1,\n",
       " 'postcode': 'L13 7EQ',\n",
       " 'latitude': 2.3,\n",
       " 'longitude': 56.0,\n",
       " 'name': 'Covenant Family',\n",
       " 'website': 'covenantfamily.org.uk',\n",
       " 'uri': 'http://localhost:5000/churches/1'}"
      ]
     },
     "execution_count": 24,
     "metadata": {},
     "output_type": "execute_result"
    }
   ],
   "source": [
    "requests.post('http://localhost:5000/churches',\n",
    "              headers={'Content-Type': 'application/json'},\n",
    "              data=json.dumps({\n",
    "                  \n",
    "                               'postcode': 'L13 7EQ',\n",
    "                               'name': 'Covenant Family',\n",
    "                               'website':'covenantfamily.org.uk',\n",
    "                               'latitude':2.3,\n",
    "                               'longitude':56.0,\n",
    "              })).json()   "
   ]
  },
  {
   "cell_type": "code",
   "execution_count": 21,
   "metadata": {},
   "outputs": [
    {
     "data": {
      "text/plain": [
       "{'message': 'Internal Server Error'}"
      ]
     },
     "execution_count": 21,
     "metadata": {},
     "output_type": "execute_result"
    }
   ],
   "source": [
    "requests.put('http://localhost:5000/churches/1',\n",
    "            headers={'Content-Type': 'application/json'},\n",
    "            data=json.dumps({\n",
    "                               'postcode': 'L13 7EQ',\n",
    "                               'website':'church.com',\n",
    "                               'latitude': '2.3',\n",
    "                               'longitude': '56.0',\n",
    "                'name': 'walk'\n",
    "            })).json()"
   ]
  },
  {
   "cell_type": "code",
   "execution_count": 22,
   "metadata": {},
   "outputs": [
    {
     "data": {
      "text/plain": [
       "<Response [204]>"
      ]
     },
     "execution_count": 22,
     "metadata": {},
     "output_type": "execute_result"
    }
   ],
   "source": [
    "requests.delete('http://localhost:5000/churches/1')"
   ]
  },
  {
   "cell_type": "markdown",
   "metadata": {},
   "source": [
    "# Other API points"
   ]
  },
  {
   "cell_type": "code",
   "execution_count": null,
   "metadata": {},
   "outputs": [],
   "source": []
  },
  {
   "cell_type": "code",
   "execution_count": null,
   "metadata": {},
   "outputs": [],
   "source": []
  }
 ],
 "metadata": {
  "kernelspec": {
   "display_name": "Python 3",
   "language": "python",
   "name": "python3"
  },
  "language_info": {
   "codemirror_mode": {
    "name": "ipython",
    "version": 3
   },
   "file_extension": ".py",
   "mimetype": "text/x-python",
   "name": "python",
   "nbconvert_exporter": "python",
   "pygments_lexer": "ipython3",
   "version": "3.8.2"
  }
 },
 "nbformat": 4,
 "nbformat_minor": 4
}
