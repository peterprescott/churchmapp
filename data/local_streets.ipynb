{
 "cells": [
  {
   "cell_type": "code",
   "execution_count": 1,
   "metadata": {},
   "outputs": [],
   "source": [
    "import pandas as pd\n",
    "import geopandas as gpd\n",
    "import osmnx as ox\n",
    "import networkx as nx"
   ]
  },
  {
   "cell_type": "code",
   "execution_count": 2,
   "metadata": {},
   "outputs": [],
   "source": [
    "churches = ['mossleyhill','sthelens','gateway','stoneycroftsalvationarmy']"
   ]
  },
  {
   "cell_type": "code",
   "execution_count": 3,
   "metadata": {},
   "outputs": [],
   "source": [
    "location = {'mossleyhill' : 'L18 8DB',\n",
    "            'sthelens' : 'WA10 2DT',\n",
    "            'gateway' : 'L24 9HJ',\n",
    "            'stoneycroftsalvationarmy': 'L13 3BT'}"
   ]
  },
  {
   "cell_type": "code",
   "execution_count": 4,
   "metadata": {},
   "outputs": [],
   "source": [
    "mile = 1609 # metres"
   ]
  },
  {
   "cell_type": "code",
   "execution_count": 5,
   "metadata": {},
   "outputs": [],
   "source": [
    "pcdlatlng = pd.read_csv('csv/pcdlatlng.csv')"
   ]
  },
  {
   "cell_type": "code",
   "execution_count": 6,
   "metadata": {},
   "outputs": [],
   "source": [
    "def get_coords(postcode):\n",
    "    \"Lookup coordinates from conversion table.\"\n",
    "    row = pcdlatlng.loc[pcdlatlng.postcode==postcode].iloc[0]\n",
    "    return row.latitude, row.longitude"
   ]
  },
  {
   "cell_type": "code",
   "execution_count": 7,
   "metadata": {},
   "outputs": [],
   "source": [
    "def get_street_names(coords, miles):\n",
    "    neighbourhood_graph = ox.project_graph(ox.graph_from_point(coords, distance=miles*mile, network_type='drive'))\n",
    "    ints = ox.clean_intersections(neighbourhood_graph)\n",
    "\n",
    "    gdf = gpd.GeoDataFrame(ints, columns=['geometry'], crs=neighbourhood_graph.graph['crs'])\n",
    "    X = gdf['geometry'].map(lambda pt: pt.coords[0][0])\n",
    "    Y = gdf['geometry'].map(lambda pt: pt.coords[0][1])\n",
    "\n",
    "    nodes = ox.get_nearest_nodes(neighbourhood_graph, X, Y, method='kdtree')\n",
    "    nearby_streets = {'Rose Lane'}\n",
    "    for n in nodes:\n",
    "        for nbr in nx.neighbors(neighbourhood_graph, n):\n",
    "            for d in neighbourhood_graph.get_edge_data(n, nbr).values():\n",
    "                if 'name' in d:\n",
    "                    if type(d['name']) == str:\n",
    "                        nearby_streets.add(d['name'])\n",
    "                    elif type(d['name']) == list:\n",
    "                        for name in d['name']:\n",
    "                            nearby_streets.add(name)\n",
    "                    else:\n",
    "                        pass\n",
    "                else:\n",
    "                    pass\n",
    "\n",
    "    return nearby_streets"
   ]
  },
  {
   "cell_type": "code",
   "execution_count": 8,
   "metadata": {},
   "outputs": [],
   "source": [
    "streets = {}\n",
    "for church in churches:\n",
    "    streets[church] = get_street_names(get_coords(location[church]), 1)"
   ]
  },
  {
   "cell_type": "code",
   "execution_count": 9,
   "metadata": {},
   "outputs": [
    {
     "name": "stdout",
     "output_type": "stream",
     "text": [
      "mossleyhill\n",
      "391 streets within 1 mile\n",
      "{'Alma Road', 'Lochmore Road', 'Elmsdale Road', 'Templemore Avenue', 'Queensdale Road', 'Chequers Gardens', 'Zetland Road', 'Mosslea Park', 'Briarwood Road', 'Barndale Road', 'Melbreck Road', 'Fulwood Drive', 'Cromer Road', 'Molyneux Road', 'Pitville Terrace', 'Friarsgate Close', 'The Quadrangle', 'Kylemore Avenue', 'Oakland Road', 'Corndale Road', 'Mossville Road', 'Coventry Road', 'Heydean Road', 'Menlove Gardens South', 'Lammermoor Road', 'Marlcroft Drive', 'Allerton Road', 'Kirkmore Road', 'Abbotts Close', 'Rutherford Road', 'Ranelagh Drive South', 'Erylmore Road', 'South Sudley Road', 'Elder Gardens', 'Oldfield Road', 'Greenhill Close', 'Mossley Avenue', 'Menlove Avenue', 'Montclair Drive', 'Silverton Road', 'Cyril Grove', 'Boxmoor Road', 'Nithsdale Road', 'Mareth Close', 'Norbury Avenue', 'Jericho Lane', 'Langford Road', 'Greenbank Lane', 'Fallowfield Road', 'Martin Close', 'Verney Crescent South', 'Drewell Road', 'Pinemore Road', 'Cramond Avenue', 'Grant Avenue', 'Halkyn Avenue', 'Larkfield Road', 'Cronton Road', 'Menlove Mansions', 'Ardmore Road', 'Elmbank Road', 'Irwell Close', 'Crawford Park', 'Arlington Avenue', 'Stratford Road', 'The Orchard', 'Caldwell Road', 'Bayfield Road', 'Reedale Road', 'Jericho Farm Close', 'Stalbridge Avenue', 'Florida Court', 'Prince Alfred Road', 'Rockside Road', 'Harthill Avenue', 'Pitville Grove', 'Brentwood Avenue', 'Rangemore Road', 'Russell Road', 'Glendyke Road', 'Ivydale Road', 'Glenhead Road', 'Lyttelton Road', 'Rowen Court', 'Lugard Road', 'Ingleton Road', 'Riversdale Mews', 'Cooper Avenue North', 'Varley Road', 'Forthlin Road', 'Brodie Avenue', 'Chatbrook Close', 'Greens Walk', 'Rose Lane', 'Handley Court', 'Heath Road', 'Heathfield Road', 'Micklefield Road', 'The Glen', 'Gladeville Road', 'Balcarres Avenue', 'Greenleigh Road', 'Harringay Avenue', 'South Bank Road', 'Greenhill Road', 'Calton Avenue', 'Caithness Road', 'Bromley Avenue', 'Sunnygate Road', 'Larkfield Close', 'Dudley Road', 'Rathmore Avenue', 'Ashlar Grove', 'Yorkaster Road', 'Ryegate Road', 'Allerton Beeches', 'Karslake Road', 'Lochryan Road', 'Craigmore Road', 'Bridge Road', 'Vicarage Close', 'Greenwood Road', 'Kilgraston Gardens', 'Primrose Road', 'Incemore Road', 'Rundle Road', 'Kenyon Road', 'Fulwood Road', 'Croydon Avenue', 'Green Lane', 'Harthill Road', 'Pitville Avenue', 'Woodlands Road', 'Ballantrae Road', 'Allerton Drive', 'Herondale Road', 'Parkside Cottages', 'Canterbury Park', 'Holmefield Road', 'Weardale Road', 'Cheyne Gardens', 'Chermside Road', 'Park Avenue', 'Aigburth Road', 'Earlsfield Road', 'Braunton Road', 'Wyndale Close', 'Greenhill Avenue', 'Cranford Road', 'Grovedale Road', 'Barkhill Road', 'Archerfield Road', 'Belvoir Road', 'Garth Drive', 'Briardale Road', 'Potters Lane', 'Deepfield Road', 'Riversdale Road', 'Ranelagh Drive North', 'Elmhall Drive', 'Elmar Road', 'Woodhey Road', 'Purley Grove', 'Hollywood Road', 'Annesley Road', 'Mather Avenue', 'Hawarden Avenue', 'Gorsedale Road', 'Stroma Road', 'Millersdale Road', 'Penny Lane', 'Shipton Close', 'Carnforth Road', 'Netherton Road', 'Rimmington Road', 'Martin Road', 'Duddingston Avenue', 'Willowdale Road', 'Lanville Road', 'Wembley Road', 'Burnham Road', 'Garmoyle Road', 'Auckland Road', 'Dovedale Road', 'Rose Terrace', 'Mossley Hill Drive', 'Wendover Avenue', 'Fawley Road', 'Galbraith Close', 'Aigburth Vale', 'Hollybank Road', 'Cherrydale Road', 'Ullet Road', 'Stairhaven Road', 'Rainham Close', 'North Sudley Road', 'Boxdale Road', 'Ashbourne Road', 'Ibbotsons Lane', 'Amherst Road', 'Saint Annes Gardens', 'Gorsebank Road', 'Cooper Close', 'Palmerston Close', 'Milner Road', 'Errington Court', 'Beckenham Avenue', 'Rosemont Road', 'Riversdale Court', 'Westwood Road', 'Garthdale Road', 'Rose Brae', 'Bilston Road', 'Welbeck Avenue', 'Mersey Road', 'Ashlar Road', 'Streatham Avenue', 'Hillview', 'Ashfield Road', 'Crawford Avenue', 'Hurstlyn Road', 'Kings Close', 'Dundonald Road', 'Livingston Drive South', 'Edale Road', 'Church Road', 'Desford Road', 'Ensworth Road', 'Hartdale Road', 'Hallside Close', 'Cooper Avenue South', 'Hollydale Road', 'The Mews', 'Donalds Way', 'Nicander Road', 'Holmefield Avenue', 'Menlove Gardens West', 'Allangate Road', 'Tanat Drive', 'Kildonan Road', 'Arranmore Road', 'Croxteth Road', 'Edenfield Road', 'Verney Crescent', 'Villa Gloria Close', 'Woolton Road', 'Staveley Road', 'Stanton Road', 'Ashdale Road', 'Beechdale Road', 'Devondale Road', 'Lyndon Drive', 'Bessbrook Road', 'Wingate Road', 'Bowfield Road', 'Greenbank Drive', 'The Calders', 'Elmswood Road', 'Bleasdale Road', 'Ancaster Road', 'Pitville Close', 'Mayfield Road', 'Winchfield Road', 'Honiton Road', 'Croxteth Drive', 'Blenheim Road', 'Capella Close', 'Lucan Road', 'Marion Grove', 'Rookery Drive', 'Minehead Road', 'Queens Drive', 'Aigburth Drive', 'Storrsdale Road', 'Appletree Close', 'Greenlake Road', 'Ivyhurst Close', 'Palmerston Road', 'Oakdale Road', 'Beechwood Road', 'Langham Avenue', 'Meredale Road', 'Lyndhurst Avenue', 'Bundoran Road', 'Dudlow Lane', 'Wyndcote Road', 'Kirkmaiden Road', 'Eastcote Road', 'Ambergate Road', 'Livingston Avenue', 'Lyndhurst Road', 'Patterdale Road', 'Gressingham Road', 'Alresford Road', 'Victoria Road', 'Eardisley Road', 'Ravenstone Road', 'Carnatic Road', 'Greenbank Road', 'Aigburth Hall Road', 'Carrickmore Avenue', 'Glenmore Avenue', 'Farmdale Close', 'Wayville Close', 'Dudlow Drive', 'The Serpentine', 'Booker Avenue', 'Glenluce Road', 'Rockmount Road', 'Mersey Avenue', 'Carsdale Road', 'Berbice Road', 'Lynmouth Road', 'Ampthill Road', 'Battery Close', 'Roxburgh Avenue', 'Fairacre Road', 'Normanton Avenue', 'Hailsham Road', 'Jericho Close', 'Victoria Close', 'Calder Drive', 'Alverstone Road', 'Hardinge Road', 'Endfield Park', 'Latrigg Road', 'Abbottshey Avenue', 'Elmsley Road', 'Silverbeech Avenue', 'Stamfordham Drive', 'Shirley Road', 'Fernwood Road', 'Brabant Road', 'Newborough Avenue', 'Smithdown Place', 'Tullimore Road', 'Sunsdale Road', 'Ramilies Road', 'Mentmore Road', 'Reedale Close', 'Ribbledale Road', 'Sands Road', 'Calderstones Avenue', 'Halkirk Road', 'Mines Avenue', 'Calderstones Road', 'Larkfield Grove', 'Silver Leigh', 'Lisburn Road', 'Armitage Gardens', 'Ingleholme Road', 'Cinder Lane', 'Kingsdale Road', 'Olivedale Road', 'Birchtree Road', 'Livingston Drive North', 'Horringford Road', 'Darby Road', 'Menlove Gardens North', 'Mossville Close', 'Aigburth Hall Avenue', \"Saint Anne's Road\", 'North Mossley Hill Road', 'Heatherdale Road', 'Lawnhurst Grove', 'Brockholme Road', 'Alston Road', 'Lathbury Lane', 'Oakbank Road', 'Pitville Road', 'Parkgate Close', 'Rosedale Road', 'Avonmore Avenue', 'Addingham Road', 'Smithdown Road', 'Saint Annes Grove', 'Plattsville Road', 'Acer Leigh', 'Benmore Road', 'Mayville Road', 'South Grove', 'Mossley Hill Road', 'Dromore Avenue', 'Dudlow Gardens', 'Kelton Grove', 'South Mossley Hill Road', 'Centreville Road', 'Trentham Avenue', 'Beechbank Road', 'Belhaven Road', 'Sudley Grange'}\n",
      "\n",
      "\n",
      "sthelens\n",
      "459 streets within 1 mile\n",
      "{'Brynn Street', 'Hammill Street', 'Ravenhead Road', 'Malt House Court', 'Teal Close', 'Gaskell Street', 'Dodd Avenue', 'Juniper Close', 'Central Street', 'Kirkland Street', 'Gleave Street', 'Birch Avenue', 'Skelton Close', 'St Helens Linkway', 'Thorn Road', 'Rainford Road', 'Merton Street', 'Balker Drive', 'Cheshire Gardens', 'Copperas Street', 'The Brooks', 'Strickland Street', 'Holly Bank Street', 'Fulmar Close', 'The Feathers', 'Kestrel Close', 'Shirebourne Avenue', 'West Park Road', 'Waterside Court', 'Merton Bank Road', 'Lyon Street', 'Old Eccleston Close', 'Rigby Street', 'Cotham Street', 'Huyton Avenue', 'Henry Street', 'Chamberlain Street', 'Vernon Street', 'Bath Street', 'Shaw Street', 'Silkstone Street', 'Earl Street', 'Arnot Close', 'County Drive', 'Rivington Street', 'Grasmere Court', 'Wokefield Way', 'Dunriding Lane', 'Langtree Street', 'Wallace Drive', 'McManus Drive', 'Lincoln Crescent', 'Alpine Close', 'Talbot Close', 'Hill Street', 'Ward Street', 'Poplar Grove', 'Percival Way', 'Sculthorpe Close', 'Higher Parr Street', 'Byron Close', 'Haydock Street', 'North Road', 'Tullis Street', 'Haresfinch View', 'Bailey Way', 'Burnell Close', 'Eaton Road', 'Dicconson Street', 'Bridge Street', 'Pitt Street', 'Martin Avenue', 'Hewitt Avenue', 'Exchange Street', 'Clifton Street', 'Hampton Place', 'Newlove Avenue', 'Keswick Road', 'Windle Street', 'Cartmell Avenue', 'Cowper Street', 'Regents Road', 'Navigation Road', 'Chalon Way', 'George Street', 'Dolan Way', 'Grasmere Avenue', 'King Edward Road', 'Woodville Street', 'Hearne Road', 'Hazel Grove', 'Crowther Street', 'Lawrence Road', 'Walton Road', 'Grant Close', 'Coleridge Avenue', 'Ardwick Street', 'Willink Road', 'Irene Avenue', 'Newfields', 'Varley Road', 'Beaconsfield Road', 'Parr Mount Street', 'Caraway Grove', 'Rose Lane', 'Marshalls Cross Road', 'St Georges Road', 'Sackville Road', 'Pintail Close', 'Birch Gardens', 'Underhill Road', 'Lincoln Road', 'Tolver Street', 'Folds Lane', 'Gormley Drive', 'West Side', 'Lowe Street South', 'Spray Street', 'Windle Hall Drive', 'Standish Street', 'Havelock Close', 'Victoria Street', 'Kelsey Close', 'Campion Close', 'City Road', 'Princess Avenue', 'Tennis Street', 'Coslett Drive', 'Manville Street', 'Swinburne Road', 'Rennie Avenue', 'Corporation Street', 'Napier Close', 'Lingholme Road', \"St Luke's Road\", 'Fairfield Road', 'Woodlands Road', 'Campbell Street', 'The Landings', 'Hardshaw Street', 'Hard Lane', 'Randon Grove', 'Coniston Grove', 'Ormskirk Street', 'Devonshire Road', 'Buckingham Close', 'Argyle Street', 'Brookside Avenue', 'Chaucer Road', 'Kiln Lane', 'Prescot Road', 'Gamble Avenue', 'Elliot Street', 'Farnworth Street', 'Flintshire Gardens', 'Cedar Street', 'Morrissey Close', 'Leach Street', 'Church Street', 'Arnold Avenue', 'Dartmouth Drive', 'South John Street', 'Green Leach Avenue', 'Arnold Close', 'Regal Drive', \"O'Keefe Road\", 'Bradshaw Close', 'Moss Bank Road', 'Morello Close', 'Pigot Street', 'Bickerstaffe Street', 'Peet Avenue', 'Horace Street', 'Briars Green', 'Siddall Street', 'Enfield Street', 'Westfield Street', 'Ellison Drive', 'Maple Grove', 'Washway Lane', 'Ewart Road', 'The Shires', 'Harris Street', 'Cooper Street', 'Scafell Road', 'Devon Street', 'Chisnall Avenue', 'Alexandra Drive/Carriage Drive', 'Constance Street', 'Cannington', 'Oleander Drive', 'Holly Bank Grove', 'Buckingham Drive', 'Cansfield Street', 'Atherton Street', 'Rivington Avenue', 'Lowe Street', 'Tamworth Street', 'Peasley Cross', 'Priory Gardens', 'Boundary Road', \"St Teresa's Road\", 'Hospital Street', 'Glover Street', 'Brook Street', 'North John Street', 'Roland Avenue', 'Glendale Road', 'Cowley Street', 'Alfred Street', 'Fenton Close', 'Bolton Close', 'Mulberry Avenue', 'Liverpool Road', 'Saint Thomas Close', 'Crab Street', 'Tennis Street North', 'Croppers Hill', 'Chadwick Road', 'Virgil Street', 'KIngsley Road', 'Alder Hey Road', 'Hartington Road', 'Bold Street', 'Halefield Street', 'Laurel Court', 'Liverpool Street', 'Barton Close', 'Vincent Street', 'Borough Road', 'Dorset Road', 'Wright Close', 'College Street', 'Bishop Road', 'Welliens Walk', 'Downs Road', 'Greenfield Road', 'Grafton Street', 'Green Leach Lane', 'Duncan Street', 'Dilloway Street', 'Swift Street', 'Palmer Close', 'Parr Street', 'Peter Street', 'Rutland Street', 'Creswell Street', 'Langdale Grove', 'Jackson Street', 'Crispin Street', 'Trafalgar Street', 'Lascelles Street', 'McCulloch Street', 'Barrow Street', 'Berkshire Gardens', 'Masefield Grove', 'Friar Street', 'Hereford Close', 'Cardigan Close', 'Birchley Street', 'Hillside Avenue', 'Roundwood Drive', 'Yorkshire Gardens', 'Wellington Terrace', 'Volunteer Street', 'Maxwell Street', 'Union Street', 'Windle Island', 'Pine Avenue', 'Bourne Gardens', 'The Grove', 'Sidings Lane', 'Cranberry Close', 'Garswood Street', 'Rivington Road', 'Waterside', 'Eccleston Street', 'Cowley Hill Lane', 'St Anns Road', 'Mallard Way', 'McFarlane Avenue', 'Whitefield Road', 'Drake Street', 'Water Street', 'Canterbury Street', 'Roby Street', 'Warwick Street', 'Traverse Street', 'Atlas Street', 'Hall Street', 'Baldwin Street', 'Selby Close', 'Charles Street', 'York Close', 'Hinckley Road', 'Cleveland Street', 'Hunter Street', 'McCabe Way', 'Carlton Street', 'Carr Street', 'Lynn Close', 'Queens Drive', 'Lord Street', 'Fairclough Road', 'Mulvaney Crescent', 'Stuart Road', 'Cambridge Road', 'Claughton Street', 'Kings Road', 'Pemberton Street', 'Greenbank Crescent', 'Sherdley Road', 'Ruskin Drive', 'Oxford Street', 'Liberty Place', 'Willow Road', 'Fairway', 'Hauxwell Grove', 'Mona Street', 'Wiltshire Gardens', 'Foundry Street', 'Chalon Way West', 'Allan Road', 'Laurel Road', 'Roscoe Street', 'Sidgreave Street', 'Grasmere Close', 'Stanhope Street', 'Rochester Gardens', 'Kitchener Street', 'Wood Street', 'Ravenshead Road', 'Kingfisher Drive', 'Ainsworth Road', 'Alma Place', 'Knowsley Road', 'Shropshire Gardens', 'Bronte Street', 'Rodney Street', 'Alma Street', 'Rydal Grove', 'Peasley Cross Lane', 'Melville Close', 'Stafford Road', 'Marsden Avenue', 'Mill Street', 'Russet Close', 'Lawrenson Street', 'Salisbury Street', 'Measham Close', 'Headley Close', 'Furness Avenue', 'Wyresdale Avenue', 'Standen Close', 'Ravenhead Foyer', 'Eldon Street', 'Bridgeman Street', 'Wolseley Road', 'Oldfield Street', 'Beaumont Avenue', 'Bank Street', 'Princes Road', 'Balfour Street', 'Grosvenor Road', 'Abberley Close', 'Windle Grove', 'Duncan Close', 'Coronation Road', 'Graham Street', 'The Chantry', 'Clover Hey', 'Sorogold Street', 'Rosebery Road', 'St Paul Street', 'Dentons Green Lane', 'Eldon Close', 'Ivy Court', 'Waterloo Street', 'Gladstone Street', 'Windlehurst Avenue', 'Bleak Hill Road', 'Silkstone Close', 'Lanark Close', 'Morley Street', 'Grasmere Fold', 'Bruce Street', 'Kiln Close', 'Belmont Street', 'Lock Street', 'Chorley Street', 'Burtonhead Road', 'Prince Andrew Grove', 'Trinity Street', 'Pocket Nook Street', 'Cross Street', 'Windsor Road', 'East Lancashire Road', 'Canal Street', 'Cross Farm Road', 'Hopkins Close', 'Clarence Close', 'Islands Brow', 'Chapel Street', 'Greenall Street', 'Dearham Avenue', 'City Gardens', 'Haywood Gardens', 'Windus Street', 'Sidney Street', 'Chalon Way East', 'Windleshaw Road', 'Simmons Close', 'New Cross Street', 'Albion Street', 'Watts Clift Way', 'Litherland Crescent', 'Moorfield Road', 'Napier Street', 'Moxon Street', 'Banner Street', 'St Georges Avenue', 'Stevenson Crescent', 'King Street', 'Duke Street', 'Hamblett Crescent', 'Seddon Street', 'Linkway West', 'James Grove', 'Doulton Street', 'Worcester Close', 'Sycamore Gardens', 'Henley Court', 'Hamilton Road', 'Saint Andrews Grove', 'Speakman Road', 'Sidmouth Close', 'Wynne Road', 'Gibbons Avenue', 'Emmett Street', 'Phoenix Brow', 'Bolton Street', 'Moray Close', 'Bleak Hill Close', 'Queens Road', 'Parlane Street', 'Exeter Street', 'Derwent Road', 'Norfolk Road', 'Appleton Road', 'Parade Street', 'Haresfinch Road', 'Warrington Old Road', 'Douglas Street', 'Ackers Lane', 'Gareth Avenue', 'Hammill Avenue', 'Lewis Street', 'Whalley Avenue', 'Hamer Street'}\n",
      "\n",
      "\n",
      "gateway\n",
      "221 streets within 1 mile\n",
      "{'Jeudwine Close', 'Deanland Drive', 'Kingsthorne Road', 'Banks Way', 'Tewit Hall Close', 'Holman Road', 'Ramsey Road', 'Winwood Hall', 'Longcroft Avenue', 'Shadowbrook Drive', 'Speke Church Road', 'Discovery Road', 'Rivenhall Square', 'Speke Boulevard', 'Stapleton Avenue', 'Evans Road', 'Waylands Drive', 'Delf Lane', 'Andover Way', 'Wrekin Close', 'Thackmore Way', 'Dymchurch Road', 'Estuary Boulevard', 'Cavell Close', 'Stamfordham Grove', 'Armscot Place', 'Leeward Drive', 'Denstone Close', 'Haxted Gardens', 'Barnham Close', 'Armscot Close', 'Blay Close', 'Windward Drive', 'Cascade Road', 'Wellbrook Green', 'Burman Road', 'Cartwrights Farm Road', 'Western Avenue', 'Cavalier Drive', 'Higher Road', 'Ramsbrook Close', 'Danefield Place', 'Vineyard Street', 'Brocklebank Lane', 'Bourton Road', 'Blacklock Hall Road', 'Lascelles Road', 'Banks Road', 'School Way', 'Lenham Way', 'Handlake Drive', 'Abberley Road', 'Colworth Road', 'Goldfinch Farm Road', 'Melbourne Close', 'Sandgate Close', 'Island Road South', 'Meredith Street', 'North Avenue', 'Stirling Lane', 'Kingsmead Drive', 'Hurricane Court', 'Stuart Avenue', 'Hardinge Road', 'Farthing Close', 'Tyberton Place', 'Windfield Road', 'Bravery Court', 'Allerton Road', 'Stowe Close', 'De Havilland Drive', 'Burnsall Street', 'Linner Road', 'Laxton Road', 'Portway', 'Shaw Road', 'Ashton Drive', 'Stamfordham Drive', 'Blomfield road', 'Gerneth Close', 'Hillfoot Avenue', 'Palmerston Drive', 'Millcroft Road', 'Clavell Road', 'Darwall Road', 'Ravenna Road', 'Enstone Road', 'Bray Road', 'Harwood Road', 'Highbank Drive', 'Faringdon Close', 'Stockton Wood Road', 'Ramsey Close', 'Anglia Way', 'Matchwood Close', 'Pembery Way', 'Perriam Road', 'Vesta Road', 'Speke Town Lane', 'Tewit Hall Road', 'Almond Court', 'Haileybury Road', 'Kinsale Drive', 'Horrocks Avenue', 'Blackburne Street', 'Wharfedale Street', 'Leafield Road', 'Pinfold Road', 'Arncliffe Road', 'Garston Way', 'Dunmow Way', 'Fleming Road', 'Stirling Road', 'Crown Acres Road', 'Gaskill Road', 'Woolton Road', 'Cricket Close', 'Winchester Close', 'Charterhouse Road', 'Speke Road', 'Hylton Road', 'Watchfield close', 'Central Avenue', 'Brunswick Street', 'Hansby Drive', 'Drennan Road', 'Camberley Drive', 'Longcroft Square', \"Edward's Lane\", 'Roskell Road', 'Addenbrooke Drive', 'Lovel Road', 'Logfield Drive', 'Fenton Green', 'Banks Lane', 'Alderman Road', 'Westbury Close', 'Broadmead', 'Danefield Road', 'Ramsbrook Road', 'Garfourth Road', 'Dakota Drive', 'Wood End Lane', 'Mackets Lane', 'Mather Avenue', 'Hillfoot Road', 'School Lane', 'Long Lane', 'Lovel Way', 'Blackburne Drive', 'Belsford Way', 'Northmead Road', 'Stanford Crescent', 'Skyhawk Avenue', 'Fairways Close', 'Caldwell Road', 'Lancing Road', 'Camphill Road', 'Woolmoore Road', 'Hale Road', 'Vesuvian Drive', 'Yew Tree Road', 'Speke Hall Road', 'Woodend Avenue', 'Blacksmith Place', 'Braydon Close', 'York Way', 'Greenacre Close', 'Hillfoot Green', 'Tarbock Road', 'Camp Road', 'Springwood Avenue', 'Mostyn Avenue', 'Barford Road', 'Balsham Close', 'Dawlish Close', 'Bancroft Close', 'Escort Close', 'Huntsman Close', 'Lancing Close', 'Kingsthorne Park', 'Redington Road', 'Bexhill Close', 'Appledore Court', 'Inwood Road', 'Maidstone Close', 'Lancing Way', 'Oundle Place', 'Masters Way', 'Boundary Drive', 'Sutton Wood Road', 'Wellbrook Close', 'Doe Park Courtyard', 'Carkington Road', 'Gerneth Road', 'Stonyhurst Road', 'Hunts Cross Avenue', 'Bognor Close', 'Ramsbury Drive', 'Hamlin Road', 'Greenacre Road', 'Roedean Close', 'Petworth Close', 'Monkfield Way', 'All Saints Road', 'York Street', 'Speke Hall Avenue', 'Greyhound Farm Road', 'Fenton Close', 'Rycot Road', 'Didcot Close', 'Longman Drive', 'Rose Lane', 'Southmead Gardens', 'Heath Road', 'Salcombe Drive', 'Sherborne Avenue', 'Garfourth Close', 'Estuary Banks', 'Blackrod Avenue', 'Southmead Road'}\n",
      "\n",
      "\n",
      "stoneycroftsalvationarmy\n",
      "516 streets within 1 mile\n",
      "{'Mayfield Close', 'Alton Road', 'College Court', 'Prospect Vale', 'Swan Street', 'Wavertree Boulevard South', 'Ellerslie Road', 'Sandy Grove', 'Sandforth Road', 'Sturdee Road', 'Courtfields Close', 'Foxdell Close', 'Cecil Street', 'West Bank Road', 'Elm Vale', 'Sandown Lane', 'Garthowen Road', 'Corona Road', 'Tiverton Street', 'Hey Green Road', 'Swan Crescent', 'Broadgreen Road', 'Etruscan Road', 'Little Bongs', 'Snaefell Avenue', 'Hampstead Road', 'Victoria Avenue', 'Wilton Grove', 'Fairford Crescent', 'Newton Road', 'Beech Park', 'Lowndes Road', 'Wychwood Close', 'Highfield View', 'Gourley Road', 'Middleton Road', 'Stephenson Way', 'MacQueen Street', 'Dundale Road', 'Gorseburn Road', 'Woodchurch Road', 'Pollard Road', 'Crawford Drive', 'Classic Road', 'Uppingham Road', 'Score Lane', 'Cunningham Road', 'Lime Close', 'Hampton Court Road', 'Oakhill Road', 'Sark Road', 'Glencairn Road', 'Chudleigh Road', 'Marlborough Road', 'Wavertree Avenue', 'Newton Court', 'Bankland Road', 'Muirhead Avenue', 'Ladyfields', 'Sandfield Close', 'Albany Road', 'Quarry Road', 'Northway', 'Rudyard Road', 'Packenham Road', 'Douglas Close', 'Shelton Close', 'Tynwald Hill', 'Oak Leigh', 'Pengwern Grove', 'Brainerd Street', 'New Hey', 'Ardleigh Road', 'Lisburn Lane', 'Borax Street', 'Halsnead Close', 'Adamson Street', 'Eaton Road', 'Orleans Road', 'Heywood Road', 'Edington Street', 'Ashfield', 'Norville Road', 'Gorse Hey Court', 'Radnor Place', 'Gloucester Road', 'Charlton Place', 'Rudyard Close', 'Insall Road', 'Alford Street', 'Spring Grove', 'Bellefield Avenue', 'Fieldway', 'Fitzgerald Road', 'Bell Street', 'Delamain Road', 'Alfriston Road', 'Enterprise Way', 'Fairford Road', 'Pete Best Drive', 'Wharncliffe Road', 'Danescourt Road', 'Beechtree Road', 'Withnell Close', 'Sibford Road', 'Eastdale Road', 'Queenscourt Road', 'Hughenden Road', 'Cardigan Street', 'West Derby Road', 'Saint James Close', 'Magnus Close', 'Ringcroft Road', 'Mill Bank', 'Mill Lane', 'Stephenson Road', 'Rose Lane', 'Glendevon Road', 'Stapehill Close', 'Birchfield Road', 'Booth Street', 'Florentine Road', 'Faraday Road', 'Homerton  Road', 'Deverell Grove', 'Richland Road', 'Thomas Drive', 'South Bank Road', 'Coral Street', 'Carlton Lane', 'East Prescot Road', 'Shaftesbury Terrace', 'Deverell Road', 'Old Mill Lane', 'Whinfell Road', 'Olive Lane', 'Queens Drive Stoneycroft', 'Alexandra Road', 'Childers Street', 'Woodgreen Road', 'Burford Road', 'Evenson Way', 'Carstairs Road', 'Sandstone Road East', 'Raynham Road', 'Seymour Road', 'Sunbeam Road', 'Grove Road', 'Russian Avenue', 'Balmoral Road', 'North Drive', 'Munster Road', 'Elstree Road', 'Bridgemere Close', 'Winsford Road', 'Fairfield Street', 'Stoneville Road', 'Baden Road', 'Green Lane', 'Derby Lane', 'Plemont Road', 'Millfield Close', 'Wavertree Boulevard', 'Frogmore Road', 'Sandfield Walk', 'Lockerby Road', 'Rawlins Street', 'Maddocks Street', 'Meade Road', 'Gidlow Road South', 'Osborne Road', 'Southgate Road', 'Elmway Close', 'Carnegie Road', 'Whitland Road', 'Avolon Road', 'Ionic Road', 'Prescot Road', 'Thorley Close', 'Pighue Lane', 'Abacus Road', 'Southway', 'Inigo Road', 'Whittaker Close', 'Dartington Road', 'Oceanic Road', 'Leinster Road', 'Rosthwaite Road', 'Durban Road', 'Brookland Road West', 'Torus Road', 'Leveson Road', 'Olton Street', 'Ash Grove', 'Withnell Road', 'Augusta Close', 'Robeck Road', 'Clairville Way', 'Bowley Road', 'Derwent Road East', 'Colwyn Road', 'Glenlyon Road', 'Leyfield Road', 'Abergele Road', 'Taunton Street', 'Newsham Drive', 'Chapelcroft Court', 'Woburn Hill', 'Clifton Road', 'Edge Lane Drive', 'Wavertree Nook Road', 'Haslingden Close', 'Ivy Leigh', 'Valescourt Road', 'Sunningdale Road', 'Saint Oswalds Street', 'Victoria Court', 'Doric Road', 'Pete Best  Drive', 'Glenavon Road', 'Lexham Road', 'Marcot Road', 'Beryl Street', 'Alcester Road', 'Hankinson Street', 'Olive Grove', 'Ventnor Road', 'Milton Road', 'Edge Grove', 'Romulus Street', 'Braddan Avenue', 'Bankburn Road', 'Birch Grove', 'Derwent Square', 'Sandown Road', 'Crofton Road', 'Rathbone Road', 'Statton Road', 'Chilcott Road', 'Aberdale Road', 'Warnerville Road', 'Montrose Way', 'Ulster Road', 'Derwent Road West', 'Hawthorns Grove', 'Hudleston Road', 'Bankfield Court', 'Mindale Road', 'Alfred Street', 'Deysbrook Side', 'Rossall Road', 'Town Row', 'Beatty Road', 'Cambridge Street', \"Honey's Green Lane\", 'Hartington Road', 'Heyburn Road', 'Warmington Road', 'Radmore Road', 'Clayford Road', 'Freehold Street', 'Vincent Street', 'Salisbury Terrace', 'Blackmoor Drive', 'Cheviot Road', 'Glamis Road', 'Maxwell Road', 'Crystal Close', 'Enfield Road', 'Shanklin Road', 'Undercliffe Road', 'Ellison Street', 'Highfield Road', 'Aylesford Road', 'Greenfield Road', 'Ravenswood Road', 'Bibby Street', 'Sandy Lane', 'Aviemore Road', 'Sulby Avenue', 'Portelet Road', 'Dryden Road', 'Bowring Park Road', 'Wavertree Road', 'Sherwell Close', 'Cromarty Road', 'Marlowe Drive', 'Herrick Street', 'Church Road', 'Sandforth Close', 'The Green', 'New Road', 'Lowfield Road', 'Balmoral Court', 'Woburn Close', 'Cadogan Street', 'Sapphire Street', 'Kempton Road', 'Allenby Square', 'Somerset Place', 'Bankfield Road', 'Nook Rise', 'Orton Road', 'Ruthven Road', 'Lomond Road', 'Bampton Road', 'Gardners Drive', 'Lower Breck Road', 'Broad Green Road', 'Picton Crescent', 'Lilly Vale', 'Snaefell Grove', 'Anstey Road', 'Corinthian Avenue', 'Becontree Road', 'Dunham Road', 'Clayford Place', 'Arlescourt Road', 'Robson Street', 'Black Horse Place', 'Somerton Street', 'Fernleigh Road', 'Eastcliffe Road', 'The Grove', 'Prescot Drive', 'Shawton Road', 'Apsley Road', 'Killarney Road', 'Rennell Road', 'Fairburn Road', 'Day Street', 'Eccleshill Road', 'Oak Vale', 'Whitby Street', 'Wyrescourt Road', 'Rhuddlan Close', 'Gidlow Road', 'Long Lane', 'Salisbury Road', 'Crosslea Drive', 'Maxwell Place', 'Rockbank Road', 'Gardner Road', 'Queens Drive', 'Darley Drive', 'Acanthus Road', 'Central Drive', 'Hilberry Avenue', 'Lynscott Place', 'Cheadle Avenue', 'Hollins Close', 'Donegal Road', 'Ovolo Road', 'Woodhall Road', 'Ashton Street', 'Sulgrave Close', 'Whinmoor Road', 'Callander Road', 'Pilot Grove', 'West Oakhill Park', 'Acuba Road', 'Simms Road', 'Orphan Drive', 'Holland Street', 'Rock Street', 'Willow Road', 'Durston Road', 'Lister Drive', 'Chatterton Road', 'Oakhill Park', 'Laurel Road', 'Auburn Road', 'South Drive', 'Rockville Road', 'Laburnum Road', 'Ashcombe Road', 'Garnet Street', 'Charlton Road', 'Olive Tree Road', 'Bolan Street', 'Innovation Boulevard', 'Batley Street', 'Douro Place', 'Tapton Way', 'Victoria Road', 'Lorne Street', 'Felton Grove', 'Crawford Way', 'Stanley Street', 'Leyfield Close', 'Walden Road', 'Domville Road', 'Saints Close', 'Picton Road', 'Heywood Court', 'Hendon Road', 'Brelade Road', 'Aysgarth Avenue', 'Hewitson Road', 'Railbrook Hey', 'Trefula Park', 'Lindale Road', 'Black Horse Lane', 'Rocky Lane', 'Standale Road', 'Glen Road', 'Burnthwaite Road', 'Alder Road', 'Maskell Road', 'Deansburn Road', 'Woodlands Park', 'Barrymore Road', 'Valencia Road', 'Acheson Road', 'Welbourne Road', 'Colinton Street', 'Malcolm Place', 'Pensarn Road', 'Digital Way', 'Monterey Road', 'Belfast Road', 'Buckingham Road', 'Davidson Road', 'Scotia Road', 'Edge Lane', 'Runic Street', 'Northdale Road', 'Ennismore Road', 'Windsor Road', 'Heathwood', 'Cornice Road', 'Maberley View', 'Albert Road', 'Willow Grove', 'Harmony Way', 'Holly Road', 'Zig Zag Road', 'Borella Road', 'Guernsey Road', 'Silverdale Avenue', 'Stoneycroft Crescent', 'Hazleton Road', 'Molton Road', 'Clayford Way', 'Alvanley Road', 'Menstone Road', 'Santon Avenue', 'Picton Grove', 'Thingwall Road', 'Gresham Street', 'Palladio Road', \"Saint Mary's Close\", 'Dovercliffe Road', 'Northgate Road', 'Endsleigh Road', 'Brookland Road East', 'Dunmore Road', 'Selkirk Road', 'Lilley Road', 'Celendine Close', 'Paignton Road', 'Clayford Crescent', 'Craigburn Road', 'Meadway', 'Dorien Road', 'Crossley Drive', 'Waldgrave Road', 'Meadowcroft Park', 'Park View', 'Elms House Road', 'Cowper Road', 'Whitcroft Road', 'Bonchurch Drive', 'Kingscourt Road', 'Kremlin Drive', 'The Beechwalk', 'Podium Road', 'Airlie Grove', 'Agincourt Road', 'Thomas Lane', 'Renville Road', 'Aldwych Road', 'Grampian Road', 'Talbotville Road', 'Broxton Street', 'Sandringham Road', 'Clifton Road East', 'Sutton Street', 'Eltham Street', 'Ronald Street', 'Ardleigh Place', 'Larch Grove', 'Purser Grove', 'Lansdown', 'Macdonald Street', 'Pemberton Road', 'Waldgrave Place', 'Russian Drive', 'Rock Grove', 'Moscow Drive', 'Gorton Road', 'Binns Road', 'Sandstone Road West', 'Lingfield Road', 'Whitehouse Road', 'Saville Road', 'Casbah Close', 'Eskburn Road', 'Thistlewood Road', 'Crofton Crescent', 'Haverstock Road', 'MacFarren Street', 'Bonsall Road', 'Birchfield Close', 'Quarry Close', 'Fairfield Crescent'}\n",
      "\n",
      "\n"
     ]
    }
   ],
   "source": [
    "for church in churches:\n",
    "    print(church)\n",
    "    print(f'{len(streets[church])} streets within 1 mile')\n",
    "    print(streets[church])\n",
    "    print('\\n')"
   ]
  }
 ],
 "metadata": {
  "jupytext": {
   "formats": "ipynb,Rmd"
  },
  "kernelspec": {
   "display_name": "Python 3",
   "language": "python",
   "name": "python3"
  },
  "language_info": {
   "codemirror_mode": {
    "name": "ipython",
    "version": 3
   },
   "file_extension": ".py",
   "mimetype": "text/x-python",
   "name": "python",
   "nbconvert_exporter": "python",
   "pygments_lexer": "ipython3",
   "version": "3.8.2"
  }
 },
 "nbformat": 4,
 "nbformat_minor": 4
}
