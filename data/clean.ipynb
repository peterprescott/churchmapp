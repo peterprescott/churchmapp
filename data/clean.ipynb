{
 "cells": [
  {
   "cell_type": "code",
   "execution_count": 30,
   "metadata": {},
   "outputs": [],
   "source": [
    "import pandas as pd\n",
    "import numpy as np"
   ]
  },
  {
   "cell_type": "code",
   "execution_count": 2,
   "metadata": {},
   "outputs": [],
   "source": [
    "churches = ['mossleyhill','gateway','sthelens','stoneycroftsalvationarmy']"
   ]
  },
  {
   "cell_type": "code",
   "execution_count": 41,
   "metadata": {},
   "outputs": [],
   "source": [
    "csv = {}\n",
    "for church in churches:\n",
    "    csv[church] = pd.read_csv(f'sensitive/postcodes/{church}.csv')\n",
    "    csv[church]['Postcode'] = csv[church]['Postcode'].str.upper()\n",
    "    csv[church]['Postcode'] = csv[church]['Postcode'].str.replace(' ','')\n",
    "    csv[church]['Postcode'] = csv[church]['Postcode'].str[:-3] + ' ' + csv[church]['Postcode'].str[-3:]\n",
    "    csv[church].to_csv(f'{church}.csv', index=False)"
   ]
  }
 ],
 "metadata": {
  "kernelspec": {
   "display_name": "Python 3",
   "language": "python",
   "name": "python3"
  },
  "language_info": {
   "codemirror_mode": {
    "name": "ipython",
    "version": 3
   },
   "file_extension": ".py",
   "mimetype": "text/x-python",
   "name": "python",
   "nbconvert_exporter": "python",
   "pygments_lexer": "ipython3",
   "version": "3.8.2"
  }
 },
 "nbformat": 4,
 "nbformat_minor": 4
}
